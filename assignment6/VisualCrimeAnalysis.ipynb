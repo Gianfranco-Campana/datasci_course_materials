{
 "cells": [
  {
   "cell_type": "markdown",
   "metadata": {},
   "source": [
    "## Crime Analytics\n",
    "\n",
    "## Communicating Data Science Results \n",
    "#### by University of Washington\n",
    "\n",
    "The Visual crime analysis will analyze criminal incident data from Seattle and San Francisco for the period of June, July, and August 2014.\n",
    "\n",
    "The analysis will try to answer, mainly visually, to the following questions:\n",
    "\n",
    "##### 1.How do incidents vary month to month in the Summer 2014 dataset?\n",
    "##### 2.Which incident types tend to correlate with each other on a day-by-day basis?\n",
    "##### 3. How do incidents vary by time of day? Which incidents are most common in the evening? During what periods of the day are robberies most common?\n",
    "##### 4. What can we infer broadly about the differences in crime patterns between Seattle and San Francisco? Does one city tend to have more crime than the other, per capita? Do the relative frequencies of types of incidents change materially between the two cities?\n",
    "##### 5. Do certain crimes correlate with environmental factors such as temperature? \n",
    "\n",
    "\n",
    "### Data collection and cleaning\n",
    "These reduced datasets are available on the [course github repository](https://github.com/uwescience/datasci_course_materials/tree/master/assignment6)\n",
    "##### Seattle Data :\n",
    "[Seattle Summer 2014 dataset](https://github.com/uwescience/datasci_course_materials/blob/master/assignment6/seattle_incidents_summer_2014.csv)\n",
    "##### San Francisco Data :\n",
    "[San Francisco Summer 2014 dataset](https://github.com/uwescience/datasci_course_materials/blob/master/assignment6/sanfrancisco_incidents_summer_2014.csv)\n",
    "\n",
    "All datasets are provided through their respective cities data portals, all powered by [Socrata](https://www.socrata.com/). The three portals and the links to the original datasets are\n",
    "\n",
    "In particular, to answer to some of this questions, some external data are required, namely: temperature for summer 2014 and population for both cities.\n",
    "\n",
    "The temperature for Seattle data are collected from:\n",
    "###### [National Weather Service](http://w2.weather.gov/climate/index.php?wfo=sew) , \n",
    "while the temperature data for San Francisco are collected from:\n",
    "###### [US Climate Data](http://www.usclimatedata.com/climate/san-francisco/california/united-states/usca0987/2014/8) , \n",
    "setting the month as the last character into the link provided.\n",
    "\n",
    "The files are loaded and the temperatures are normalized for both, computing the average temperature for Seattle from the min and max values, and then using the average daily temperature for each month to fill some empty values.\n",
    "In addition to keep both dataset comparables, a normalization is performed in the Category or Summarized.Offense.Description that ar eplanned to be used for visualizatoin analytics.\n",
    "\n",
    "###### How Category normalizatoin is performed\n",
    "In the original datasets, a number of category classification were not overlapping, and in addition San Francisco had fewer categories then Seattle. The strategy adopted had been to start from the fewer categories of San Francisco and attach every category from Seattle to one of them. This left the set of San Francisco with some more categories in respect to Seattle, so a second step of normalizatoin on San Francisco categories  is performed, until both set have exactly the same categories.\n",
    "\n",
    "The logic adopted to link categories  with different name, in some cases lie on personal interpretation as this is inavoidable, if we don't imagine a complex Natural Language Processing step that is not the target for this work.\n",
    "Therefore some categories unclassified in the other dataset, are linked to the most general category where needed, e.g. \"OTHER OFFENSES\", already present in the San Francisco records, while the common sense was used in case of simpler interpretations.\n",
    "\n",
    "\n"
   ]
  },
  {
   "cell_type": "code",
   "execution_count": 3,
   "metadata": {
    "collapsed": false
   },
   "outputs": [
    {
     "data": {
      "text/html": [
       "\"English_United States.1252\""
      ],
      "text/latex": [
       "\"English_United States.1252\""
      ],
      "text/markdown": [
       "\"English_United States.1252\""
      ],
      "text/plain": [
       "[1] \"English_United States.1252\""
      ]
     },
     "execution_count": 3,
     "metadata": {},
     "output_type": "execute_result"
    }
   ],
   "source": [
    "Sys.setlocale(\"LC_TIME\", \"English\")\n",
    "options(jupyter.plot_mimetypes = 'image/png')\n",
    "#setwd(\"E:/MEGA/Git Repository/datasci_course_materials/assignment6\")        \n",
    "crisan  <- read.csv(\"sanfrancisco_incidents_summer_2014.csv\", header = T)     \n",
    "crisea  <- read.csv(\"seattle_incidents_summer_2014.csv\", header = T)   \n",
    "tempsan <- read.csv(\"SeattleTemp.csv\", header = T, sep=\";\")     \n",
    "tempsea <- read.csv(\"SanFranciscoTemp.csv\", header = T, sep=\";\")   \n",
    "tempsea$TempAvg <- round((tempsea$TempMin+tempsea$TempMax)/2,0)\n",
    "\n",
    "# mean temp of June\n",
    "meanJune <- round(mean(tempsea[substr(tempsea$Date,1,2)==\"06\"&tempsea$TempAvg!=0,]$TempAvg),0)\n",
    "# Update June when temp = 0\n",
    "tempsea[substr(tempsea$Date,1,2)==\"06\"&tempsea$TempAvg==0,]$TempAvg <- meanJune\n",
    "\n",
    "# mean temp of July\n",
    "meanJuly <- round(mean(tempsea[substr(tempsea$Date,1,2)==\"07\"&tempsea$TempAvg!=0,]$TempAvg),0)\n",
    "# Update July when temp = 0\n",
    "tempsea[substr(tempsea$Date,1,2)==\"07\"&tempsea$TempAvg==0,]$TempAvg <- meanJuly\n",
    "\n",
    "# mean temp of Agust\n",
    "meanAgust <- round(mean(tempsea[substr(tempsea$Date,1,2)==\"08\"&tempsea$TempAvg!=0,]$TempAvg),0)\n",
    "# Update Agust when temp = 0\n",
    "tempsea[substr(tempsea$Date,1,2)==\"08\"&tempsea$TempAvg==0,]$TempAvg <- meanAgust\n",
    "\n",
    "tempsea$TempMin <- NULL\n",
    "tempsea$TempMax <- NULL\n",
    "#str(crisan)\n",
    "#str(crisea)\n",
    "crisea$Date <- as.factor(substr(as.character(crisea$Occurred.Date.or.Date.Range.Start), 1, 10))\n",
    "crisea$Time <- as.factor(substr(as.character(crisea$Occurred.Date.or.Date.Range.Start), 12, 16))\n",
    "crisea <- merge(x = crisea, y = tempsea, by = \"Date\")\n",
    "crisan <- merge(x = crisan, y = tempsan, by = \"Date\")\n",
    "crisea$DayOfWeek <- weekdays(as.Date(crisea$Date,'%m/%d/%Y'))\n",
    "levels(crisea$Summarized.Offense.Description)[levels(crisea$Summarized.Offense.Description)==\"INJURY\"] <- \"ASSAULT\"\n",
    "levels(crisea$Summarized.Offense.Description)[levels(crisea$Summarized.Offense.Description)==\"HOMICIDE\"] <- \"ASSAULT\"\n",
    "\n",
    "levels(crisea$Summarized.Offense.Description)[levels(crisea$Summarized.Offense.Description)==\"BURGLARY-SECURE PARKING-RES\"] <- \"BURGLARY\"\n",
    "levels(crisea$Summarized.Offense.Description)[levels(crisea$Summarized.Offense.Description)==\"TRESPASS\"] <- \"BURGLARY\"\n",
    "\n",
    "levels(crisea$Summarized.Offense.Description)[levels(crisea$Summarized.Offense.Description)==\"PUBLIC NUISANCE\"] <- \"DISORDERLY CONDUCT\"\n",
    "levels(crisea$Summarized.Offense.Description)[levels(crisea$Summarized.Offense.Description)==\"THREATS\"] <- \"DISORDERLY CONDUCT\"\n",
    "\n",
    "levels(crisea$Summarized.Offense.Description)[levels(crisea$Summarized.Offense.Description)==\"DUI\"] <- \"DRIVING UNDER THE INFLUENCE\"\n",
    "\n",
    "levels(crisea$Summarized.Offense.Description)[levels(crisea$Summarized.Offense.Description)==\"NARCOTICS\"] <- \"DRUG/NARCOTIC\"\n",
    "levels(crisea$Summarized.Offense.Description)[levels(crisea$Summarized.Offense.Description)==\"TRAFFIC\"] <- \"DRUG/NARCOTIC\"\n",
    "\n",
    "levels(crisea$Summarized.Offense.Description)[levels(crisea$Summarized.Offense.Description)==\"EMBEZZLE\"] <- \"EMBEZZLEMENT\"\n",
    "\n",
    "levels(crisea$Summarized.Offense.Description)[levels(crisea$Summarized.Offense.Description)==\"COUNTERFEIT\"] <- \"FORGERY/COUNTERFEITING\"\n",
    "levels(crisea$Summarized.Offense.Description)[levels(crisea$Summarized.Offense.Description)==\"FORGERY\"]   <- \"FORGERY/COUNTERFEITING\"\n",
    "\n",
    "levels(crisea$Summarized.Offense.Description)[levels(crisea$Summarized.Offense.Description)==\"MAIL THEFT\"] <- \"LARCENY/THEFT\"\n",
    "levels(crisea$Summarized.Offense.Description)[levels(crisea$Summarized.Offense.Description)==\"PICKPOCKET\"] <- \"LARCENY/THEFT\"\n",
    "levels(crisea$Summarized.Offense.Description)[levels(crisea$Summarized.Offense.Description)==\"PURSE SNATCH\"] <- \"LARCENY/THEFT\"\n",
    "levels(crisea$Summarized.Offense.Description)[levels(crisea$Summarized.Offense.Description)==\"SHOPLIFTING\"] <- \"LARCENY/THEFT\"\n",
    "levels(crisea$Summarized.Offense.Description)[levels(crisea$Summarized.Offense.Description)==\"STOLEN PROPERTY\"] <- \"LARCENY/THEFT\"\n",
    "levels(crisea$Summarized.Offense.Description)[levels(crisea$Summarized.Offense.Description)==\"THEFT OF SERVICES\"] <- \"LARCENY/THEFT\"\n",
    "\n",
    "levels(crisea$Summarized.Offense.Description)[levels(crisea$Summarized.Offense.Description)==\"LIQUOR VIOLATION\"] <- \"LIQUOR LAWS\"\n",
    "\n",
    "levels(crisea$Summarized.Offense.Description)[levels(crisea$Summarized.Offense.Description)==\"LOST PROPERTY\"] <- \"NON-CRIMINAL\"\n",
    "levels(crisea$Summarized.Offense.Description)[levels(crisea$Summarized.Offense.Description)==\"RECOVERED PROPERTY\"] <- \"NON-CRIMINAL\"\n",
    "\n",
    "levels(crisea$Summarized.Offense.Description)[levels(crisea$Summarized.Offense.Description)==\"ANIMAL COMPLAINT\"] <- \"OTHER OFFENSES\"\n",
    "levels(crisea$Summarized.Offense.Description)[levels(crisea$Summarized.Offense.Description)==\"BIAS INCIDENT\"] <- \"OTHER OFFENSES\"\n",
    "levels(crisea$Summarized.Offense.Description)[levels(crisea$Summarized.Offense.Description)==\"CAR PROWL\"] <- \"OTHER OFFENSES\"\n",
    "levels(crisea$Summarized.Offense.Description)[levels(crisea$Summarized.Offense.Description)==\"DISPUTE\"] <- \"OTHER OFFENSES\"\n",
    "levels(crisea$Summarized.Offense.Description)[levels(crisea$Summarized.Offense.Description)==\"DISTURBANCE\"] <- \"OTHER OFFENSES\"\n",
    "levels(crisea$Summarized.Offense.Description)[levels(crisea$Summarized.Offense.Description)==\"FALSE REPORT\"] <- \"OTHER OFFENSES\"\n",
    "levels(crisea$Summarized.Offense.Description)[levels(crisea$Summarized.Offense.Description)==\"FIREWORK\"] <- \"OTHER OFFENSES\"\n",
    "levels(crisea$Summarized.Offense.Description)[levels(crisea$Summarized.Offense.Description)==\"[INC - CASE DC USE ONLY]\"] <- \"OTHER OFFENSES\"\n",
    "levels(crisea$Summarized.Offense.Description)[levels(crisea$Summarized.Offense.Description)==\"ILLEGAL DUMPING\"] <- \"OTHER OFFENSES\"\n",
    "levels(crisea$Summarized.Offense.Description)[levels(crisea$Summarized.Offense.Description)==\"OBSTRUCT\"] <- \"OTHER OFFENSES\"\n",
    "levels(crisea$Summarized.Offense.Description)[levels(crisea$Summarized.Offense.Description)==\"OTHER PROPERTY\"] <- \"OTHER OFFENSES\"\n",
    "levels(crisea$Summarized.Offense.Description)[levels(crisea$Summarized.Offense.Description)==\"VIOLATION OF COURT ORDER\"] <- \"OTHER OFFENSES\"\n",
    "\n",
    "\n",
    "levels(crisea$Summarized.Offense.Description)[levels(crisea$Summarized.Offense.Description)==\"PORNOGRAPHY\"] <- \"PORNOGRAPHY/OBSCENE MAT\"\n",
    "\n",
    "levels(crisea$Summarized.Offense.Description)[levels(crisea$Summarized.Offense.Description)==\"ELUDING\"] <- \"RUNAWAY\"\n",
    "levels(crisea$Summarized.Offense.Description)[levels(crisea$Summarized.Offense.Description)==\"ESCAPE\"] <- \"RUNAWAY\"\n",
    "\n",
    "levels(crisea$Summarized.Offense.Description)[levels(crisea$Summarized.Offense.Description)==\"PROPERTY DAMAGE\"] <- \"VANDALISM\"\n",
    "\n",
    "levels(crisea$Summarized.Offense.Description)[levels(crisea$Summarized.Offense.Description)==\"BIKE THEFT\"] <- \"VEHICLE THEFT\"\n",
    "\n",
    "levels(crisea$Summarized.Offense.Description)[levels(crisea$Summarized.Offense.Description)==\"WARRANT ARREST\"] <- \"WARRANTS\"\n",
    "\n",
    "levels(crisea$Summarized.Offense.Description)[levels(crisea$Summarized.Offense.Description)==\"WEAPON\"] <- \"WEAPON LAWS\"\n",
    "\n",
    "levels(crisea$Summarized.Offense.Description)[levels(crisea$Summarized.Offense.Description)==\"RECKLESS BURNING\"] <- \"ARSON\"\n",
    "\n",
    "levels(crisan$Category)[levels(crisan$Category)==\"BRIBERY\"] <- \"EMBEZZLEMENT\"\n",
    "levels(crisan$Category)[levels(crisan$Category)==\"EXTORTION\"] <- \"EMBEZZLEMENT\"\n",
    "levels(crisan$Category)[levels(crisan$Category)==\"DRUNKENNESS\"] <- \"DISORDERLY CONDUCT\"\n",
    "levels(crisan$Category)[levels(crisan$Category)==\"FAMILY OFFENSES\"] <- \"DISORDERLY CONDUCT\"\n",
    "levels(crisan$Category)[levels(crisan$Category)==\"SUSPICIOUS OCC\"] <- \"DISORDERLY CONDUCT\"\n",
    "levels(crisan$Category)[levels(crisan$Category)==\"KIDNAPPING\"] <- \"ASSAULT\"\n",
    "levels(crisan$Category)[levels(crisan$Category)==\"GAMBLING\"] <- \"SECONDARY CODES\"\n",
    "levels(crisan$Category)[levels(crisan$Category)==\"LOITERING\"] <- \"SECONDARY CODES\"\n",
    "levels(crisan$Category)[levels(crisan$Category)==\"MISSING PERSON\"] <- \"SECONDARY CODES\"\n",
    "levels(crisan$Category)[levels(crisan$Category)==\"SECONDARY CODES\"] <- \"OTHER OFFENSES\"\n",
    "levels(crisan$Category)[levels(crisan$Category)==\"STOLEN PROPERTY\"] <- \"OTHER OFFENSES\"\n",
    "levels(crisan$Category)[levels(crisan$Category)==\"SUICIDE\"] <- \"OTHER OFFENSES\"\n",
    "levels(crisan$Category)[levels(crisan$Category)==\"TRESPASS\"] <- \"RUNAWAY\"\n",
    "\n",
    "#sort(levels(crisea$Summarized.Offense.Description)) == sort(levels(crisan$Category))\n"
   ]
  },
  {
   "cell_type": "markdown",
   "metadata": {},
   "source": [
    "##### Question n.1: How do incidents vary month to month in the Summer 2014 dataset?\n",
    "We have two dimension here, one for the Month and one for the total incidents per Month, both mapped to space."
   ]
  },
  {
   "cell_type": "code",
   "execution_count": 27,
   "metadata": {
    "collapsed": false
   },
   "outputs": [],
   "source": [
    "# Normalizing months and number ov events\n",
    "crisea$monthLabel <- months(as.Date(crisea$Date,'%m/%d/%Y'))\n",
    "crisan$monthLabel <- months(as.Date(crisan$Date,'%m/%d/%Y'))\n",
    "# count the timestamps per month for each year\n",
    "library(plyr)\n",
    "seaNEvents= count(crisea, vars = c(\"monthLabel\"))\n",
    "sanNEvents= count(crisan, vars = c(\"monthLabel\"))\n"
   ]
  },
  {
   "cell_type": "code",
   "execution_count": 59,
   "metadata": {
    "collapsed": false
   },
   "outputs": [
    {
     "data": {
      "image/png": "[encoded data removed]"
     },
     "metadata": {},
     "output_type": "display_data"
    },
    {
     "data": {
      "image/png": "[encoded data removed]"
     },
     "metadata": {},
     "output_type": "display_data"
    }
   ],
   "source": [
    "library(ggplot2)\n",
    "ggplot(data = seaNEvents) + \n",
    "    geom_bar(aes(x = factor(monthLabel, levels=c(\"June\",\"July\",\"August\")), \n",
    "                 y = freq, fill = monthLabel), \n",
    "             stat=\"identity\", \n",
    "             position = \"dodge\") +\n",
    "    xlab(\"Summer month 2014\") +\n",
    "    ylab(\"Number of events\")  +\n",
    "    ggtitle(\"Seattle\")  \n",
    "ggplot(data = sanNEvents) + \n",
    "    geom_bar(aes(x = factor(monthLabel, levels=c(\"June\",\"July\",\"August\")), \n",
    "                 y = freq, fill = monthLabel), \n",
    "             stat=\"identity\", \n",
    "             position = \"dodge\") +\n",
    "    xlab(\"Summer month 2014\") +\n",
    "    ylab(\"Number of events\")  +\n",
    "    ggtitle(\"San Francisco\")\n",
    "\n"
   ]
  },
  {
   "cell_type": "code",
   "execution_count": null,
   "metadata": {
    "collapsed": false
   },
   "outputs": [],
   "source": []
  }
 ],
 "metadata": {
  "kernelspec": {
   "display_name": "R",
   "language": "R",
   "name": "ir"
  },
  "language_info": {
   "codemirror_mode": "r",
   "file_extension": ".r",
   "mimetype": "text/x-r-source",
   "name": "R",
   "pygments_lexer": "r",
   "version": "3.1.1"
  }
 },
 "nbformat": 4,
 "nbformat_minor": 0
}

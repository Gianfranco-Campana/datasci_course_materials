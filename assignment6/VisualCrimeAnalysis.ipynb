{
 "cells": [
  {
   "cell_type": "code",
   "execution_count": 1,
   "metadata": {
    "collapsed": false
   },
   "outputs": [
    {
     "data": {
      "text/html": [
       "<ol class=list-inline>\n",
       "\t<li>\"IncidntNum\"</li>\n",
       "\t<li>\"Category\"</li>\n",
       "\t<li>\"Descript\"</li>\n",
       "\t<li>\"DayOfWeek\"</li>\n",
       "\t<li>\"Date\"</li>\n",
       "\t<li>\"Time\"</li>\n",
       "\t<li>\"PdDistrict\"</li>\n",
       "\t<li>\"Resolution\"</li>\n",
       "\t<li>\"Address\"</li>\n",
       "\t<li>\"X\"</li>\n",
       "\t<li>\"Y\"</li>\n",
       "\t<li>\"Location\"</li>\n",
       "\t<li>\"PdId\"</li>\n",
       "</ol>\n"
      ],
      "text/latex": [
       "\\begin{enumerate*}\n",
       "\\item \"IncidntNum\"\n",
       "\\item \"Category\"\n",
       "\\item \"Descript\"\n",
       "\\item \"DayOfWeek\"\n",
       "\\item \"Date\"\n",
       "\\item \"Time\"\n",
       "\\item \"PdDistrict\"\n",
       "\\item \"Resolution\"\n",
       "\\item \"Address\"\n",
       "\\item \"X\"\n",
       "\\item \"Y\"\n",
       "\\item \"Location\"\n",
       "\\item \"PdId\"\n",
       "\\end{enumerate*}\n"
      ],
      "text/markdown": [
       "1. \"IncidntNum\"\n",
       "2. \"Category\"\n",
       "3. \"Descript\"\n",
       "4. \"DayOfWeek\"\n",
       "5. \"Date\"\n",
       "6. \"Time\"\n",
       "7. \"PdDistrict\"\n",
       "8. \"Resolution\"\n",
       "9. \"Address\"\n",
       "10. \"X\"\n",
       "11. \"Y\"\n",
       "12. \"Location\"\n",
       "13. \"PdId\"\n",
       "\n",
       "\n"
      ],
      "text/plain": [
       " [1] \"IncidntNum\" \"Category\"   \"Descript\"   \"DayOfWeek\"  \"Date\"      \n",
       " [6] \"Time\"       \"PdDistrict\" \"Resolution\" \"Address\"    \"X\"         \n",
       "[11] \"Y\"          \"Location\"   \"PdId\"      "
      ]
     },
     "execution_count": 1,
     "metadata": {},
     "output_type": "execute_result"
    },
    {
     "name": "stdout",
     "output_type": "stream",
     "text": [
      "'data.frame':\t28993 obs. of  13 variables:\n",
      " $ IncidntNum: int  140734311 140736317 146177923 146177531 140734220 140734349 140734349 140734349 140738147 140734258 ...\n",
      " $ Category  : Factor w/ 34 levels \"ARSON\",\"ASSAULT\",..: 1 20 16 16 20 7 7 6 21 30 ...\n",
      " $ Descript  : Factor w/ 368 levels \"ABANDONMENT OF CHILD\",..: 15 179 143 143 132 247 239 93 107 347 ...\n",
      " $ DayOfWeek : Factor w/ 7 levels \"Friday\",\"Monday\",..: 4 4 4 4 4 4 4 4 4 4 ...\n",
      " $ Date      : Factor w/ 92 levels \"06/01/2014\",\"06/02/2014\",..: 92 92 92 92 92 92 92 92 92 92 ...\n",
      " $ Time      : Factor w/ 1379 levels \"00:01\",\"00:02\",..: 1370 1365 1351 1351 1344 1334 1334 1334 1321 1321 ...\n",
      " $ PdDistrict: Factor w/ 10 levels \"BAYVIEW\",\"CENTRAL\",..: 1 4 8 7 7 8 8 8 3 2 ...\n",
      " $ Resolution: Factor w/ 16 levels \"ARREST, BOOKED\",..: 12 12 12 12 12 1 1 1 12 2 ...\n",
      " $ Address   : Factor w/ 8055 levels \"0 Block of 10TH ST\",..: 6843 4022 1098 6111 5096 1263 1263 1263 1575 5236 ...\n",
      " $ X         : num  -122 -122 -122 -122 -123 ...\n",
      " $ Y         : num  37.7 37.8 37.8 37.8 37.8 ...\n",
      " $ Location  : Factor w/ 8732 levels \"(37.7080829769301, -122.419241455854)\",..: 1970 3730 5834 4802 4777 4993 4993 4993 2543 7598 ...\n",
      " $ PdId      : num  1.41e+13 1.41e+13 1.46e+13 1.46e+13 1.41e+13 ...\n"
     ]
    }
   ],
   "source": [
    "setwd(\"E:/MEGA/Git Repository/datasci_course_materials/assignment6\")        \n",
    "crisf <- read.csv(\"sanfrancisco_incidents_summer_2014.csv\", header = T)     \n",
    "names(crisf)\n",
    " str(crisf)\n",
    "\n",
    "plot(crisf$Category)"
   ]
  }
 ],
 "metadata": {
  "kernelspec": {
   "display_name": "R",
   "language": "R",
   "name": "ir"
  },
  "language_info": {
   "codemirror_mode": "r",
   "file_extension": ".r",
   "mimetype": "text/x-r-source",
   "name": "R",
   "pygments_lexer": "r",
   "version": "3.1.1"
  }
 },
 "nbformat": 4,
 "nbformat_minor": 0
}

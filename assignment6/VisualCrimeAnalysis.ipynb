{
 "cells": [
  {
   "cell_type": "markdown",
   "metadata": {},
   "source": [
    "## Crime Analytics\n",
    "\n",
    "## Communicating Data Science Results \n",
    "#### by University of Washington\n",
    "\n",
    "The Visual crime analysis will analyze criminal incident data from Seattle and San Francisco for the period of June, July, and August 2014.\n",
    "\n",
    "The analysis will try to answer, mainly visually, to the following questions:\n",
    "\n",
    "##### How do incidents vary month to month in the Summer 2014 dataset?\n",
    "##### How do incidents vary by time of day? \n",
    "##### Which incidents are most common in the evening? \n",
    "##### During what periods of the day are robberies most common?\n",
    "##### What can we infer broadly about the differences in crime patterns between Seattle and San Francisco? \n",
    "##### Does one city tend to have more crime than the other, per capita? \n",
    "##### Do the relative frequencies of types of incidents change materially between the two cities?\n",
    "##### Do certain crimes correlate with environmental factors such as temperature? \n",
    "\n",
    "\n",
    "### Data collection and cleaning\n",
    "These reduced datasets are available on the [course github repository](https://github.com/uwescience/datasci_course_materials/tree/master/assignment6)\n",
    "##### Seattle Data :\n",
    "[Seattle Summer 2014 dataset](https://github.com/uwescience/datasci_course_materials/blob/master/assignment6/seattle_incidents_summer_2014.csv)\n",
    "##### San Francisco Data :\n",
    "[San Francisco Summer 2014 dataset](https://github.com/uwescience/datasci_course_materials/blob/master/assignment6/sanfrancisco_incidents_summer_2014.csv)\n",
    "\n",
    "All datasets are provided through their respective cities data portals, all powered by [Socrata](https://www.socrata.com/). The three portals and the links to the original datasets are\n",
    "\n",
    "In particular, to answer to some of this questions, some external data are required, namely: temperature for summer 2014 and population for both cities.\n",
    "\n",
    "The temperature for Seattle data are collected from:\n",
    "###### [National Weather Service](http://w2.weather.gov/climate/index.php?wfo=sew) , \n",
    "while the temperature data for San Francisco are collected from:\n",
    "###### [US Climate Data](http://www.usclimatedata.com/climate/san-francisco/california/united-states/usca0987/2014/8) , \n",
    "setting the month as the last character into the link provided.\n",
    "\n",
    "The files are loaded and the temperatures are normalized for both, computing the average temperature for Seattle from the min and max values, and then using the average daily temperature for each month to fill some empty values.\n",
    "In addition to keep both dataset comparables, a normalization is performed in the Category or Summarized.Offense.Description that ar eplanned to be used for visualizatoin analytics.\n",
    "\n",
    "###### How Category normalizatoin is performed\n",
    "In the original datasets, a number of category classification were not overlapping, and in addition San Francisco had fewer categories then Seattle. The strategy adopted had been to start from the fewer categories of San Francisco and attach every category from Seattle to one of them. This left the set of San Francisco with some more categories in respect to Seattle, so a second step of normalizatoin on San Francisco categories  is performed, until both set have exactly the same categories.\n",
    "\n",
    "The logic adopted to link categories  with different name, in some cases lie on personal interpretation as this is inavoidable, if we don't imagine a complex Natural Language Processing step that is not the target for this work.\n",
    "Therefore some categories unclassified in the other dataset, are linked to the most general category where needed, e.g. \"OTHER OFFENSES\", already present in the San Francisco records, while the common sense was used in case of simpler interpretations.\n",
    "\n",
    "\n"
   ]
  },
  {
   "cell_type": "code",
   "execution_count": null,
   "metadata": {
    "collapsed": true
   },
   "outputs": [],
   "source": []
  },
  {
   "cell_type": "code",
   "execution_count": 101,
   "metadata": {
    "collapsed": false
   },
   "outputs": [
    {
     "data": {
      "text/html": [
       "\"English_United States.1252\""
      ],
      "text/latex": [
       "\"English_United States.1252\""
      ],
      "text/markdown": [
       "\"English_United States.1252\""
      ],
      "text/plain": [
       "[1] \"English_United States.1252\""
      ]
     },
     "execution_count": 101,
     "metadata": {},
     "output_type": "execute_result"
    }
   ],
   "source": [
    "Sys.setlocale(\"LC_TIME\", \"English\")\n",
    "options(jupyter.plot_mimetypes = 'image/png')\n",
    "#setwd(\"E:/MEGA/Git Repository/datasci_course_materials/assignment6\")        \n",
    "crisan  <- read.csv(\"sanfrancisco_incidents_summer_2014.csv\", header = T)     \n",
    "crisea  <- read.csv(\"seattle_incidents_summer_2014.csv\", header = T)   \n",
    "tempsan <- read.csv(\"SeattleTemp.csv\", header = T, sep=\";\")     \n",
    "tempsea <- read.csv(\"SanFranciscoTemp.csv\", header = T, sep=\";\")   \n",
    "tempsea$TempAvg <- round((tempsea$TempMin+tempsea$TempMax)/2,0)\n",
    "\n",
    "# mean temp of June\n",
    "meanJune <- round(mean(tempsea[substr(tempsea$Date,1,2)==\"06\"&tempsea$TempAvg!=0,]$TempAvg),0)\n",
    "# Update June when temp = 0\n",
    "tempsea[substr(tempsea$Date,1,2)==\"06\"&tempsea$TempAvg==0,]$TempAvg <- meanJune\n",
    "\n",
    "# mean temp of July\n",
    "meanJuly <- round(mean(tempsea[substr(tempsea$Date,1,2)==\"07\"&tempsea$TempAvg!=0,]$TempAvg),0)\n",
    "# Update July when temp = 0\n",
    "tempsea[substr(tempsea$Date,1,2)==\"07\"&tempsea$TempAvg==0,]$TempAvg <- meanJuly\n",
    "\n",
    "# mean temp of Agust\n",
    "meanAgust <- round(mean(tempsea[substr(tempsea$Date,1,2)==\"08\"&tempsea$TempAvg!=0,]$TempAvg),0)\n",
    "# Update Agust when temp = 0\n",
    "tempsea[substr(tempsea$Date,1,2)==\"08\"&tempsea$TempAvg==0,]$TempAvg <- meanAgust\n",
    "\n",
    "tempsea$TempMin <- NULL\n",
    "tempsea$TempMax <- NULL\n",
    "#str(crisan)\n",
    "#str(crisea)\n",
    "crisea$Date <- as.factor(substr(as.character(crisea$Occurred.Date.or.Date.Range.Start), 1, 10))\n",
    "crisea$Time <- as.factor(substr(as.character(crisea$Occurred.Date.or.Date.Range.Start), 12, 16))\n",
    "crisea <- merge(x = crisea, y = tempsea, by = \"Date\")\n",
    "crisan <- merge(x = crisan, y = tempsan, by = \"Date\")\n",
    "crisea$DayOfWeek <- weekdays(as.Date(crisea$Date,'%m/%d/%Y'))\n",
    "levels(crisea$Summarized.Offense.Description)[levels(crisea$Summarized.Offense.Description)==\"INJURY\"] <- \"ASSAULT\"\n",
    "levels(crisea$Summarized.Offense.Description)[levels(crisea$Summarized.Offense.Description)==\"HOMICIDE\"] <- \"ASSAULT\"\n",
    "\n",
    "levels(crisea$Summarized.Offense.Description)[levels(crisea$Summarized.Offense.Description)==\"BURGLARY-SECURE PARKING-RES\"] <- \"BURGLARY\"\n",
    "levels(crisea$Summarized.Offense.Description)[levels(crisea$Summarized.Offense.Description)==\"TRESPASS\"] <- \"BURGLARY\"\n",
    "\n",
    "levels(crisea$Summarized.Offense.Description)[levels(crisea$Summarized.Offense.Description)==\"PUBLIC NUISANCE\"] <- \"DISORDERLY CONDUCT\"\n",
    "levels(crisea$Summarized.Offense.Description)[levels(crisea$Summarized.Offense.Description)==\"THREATS\"] <- \"DISORDERLY CONDUCT\"\n",
    "\n",
    "levels(crisea$Summarized.Offense.Description)[levels(crisea$Summarized.Offense.Description)==\"DUI\"] <- \"DRIVING UNDER THE INFLUENCE\"\n",
    "\n",
    "levels(crisea$Summarized.Offense.Description)[levels(crisea$Summarized.Offense.Description)==\"NARCOTICS\"] <- \"DRUG/NARCOTIC\"\n",
    "levels(crisea$Summarized.Offense.Description)[levels(crisea$Summarized.Offense.Description)==\"TRAFFIC\"] <- \"DRUG/NARCOTIC\"\n",
    "\n",
    "levels(crisea$Summarized.Offense.Description)[levels(crisea$Summarized.Offense.Description)==\"EMBEZZLE\"] <- \"EMBEZZLEMENT\"\n",
    "\n",
    "levels(crisea$Summarized.Offense.Description)[levels(crisea$Summarized.Offense.Description)==\"COUNTERFEIT\"] <- \"FORGERY/COUNTERFEITING\"\n",
    "levels(crisea$Summarized.Offense.Description)[levels(crisea$Summarized.Offense.Description)==\"FORGERY\"]   <- \"FORGERY/COUNTERFEITING\"\n",
    "\n",
    "levels(crisea$Summarized.Offense.Description)[levels(crisea$Summarized.Offense.Description)==\"MAIL THEFT\"] <- \"LARCENY/THEFT\"\n",
    "levels(crisea$Summarized.Offense.Description)[levels(crisea$Summarized.Offense.Description)==\"PICKPOCKET\"] <- \"LARCENY/THEFT\"\n",
    "levels(crisea$Summarized.Offense.Description)[levels(crisea$Summarized.Offense.Description)==\"PURSE SNATCH\"] <- \"LARCENY/THEFT\"\n",
    "levels(crisea$Summarized.Offense.Description)[levels(crisea$Summarized.Offense.Description)==\"SHOPLIFTING\"] <- \"LARCENY/THEFT\"\n",
    "levels(crisea$Summarized.Offense.Description)[levels(crisea$Summarized.Offense.Description)==\"STOLEN PROPERTY\"] <- \"LARCENY/THEFT\"\n",
    "levels(crisea$Summarized.Offense.Description)[levels(crisea$Summarized.Offense.Description)==\"THEFT OF SERVICES\"] <- \"LARCENY/THEFT\"\n",
    "\n",
    "levels(crisea$Summarized.Offense.Description)[levels(crisea$Summarized.Offense.Description)==\"LIQUOR VIOLATION\"] <- \"LIQUOR LAWS\"\n",
    "\n",
    "levels(crisea$Summarized.Offense.Description)[levels(crisea$Summarized.Offense.Description)==\"LOST PROPERTY\"] <- \"NON-CRIMINAL\"\n",
    "levels(crisea$Summarized.Offense.Description)[levels(crisea$Summarized.Offense.Description)==\"RECOVERED PROPERTY\"] <- \"NON-CRIMINAL\"\n",
    "\n",
    "levels(crisea$Summarized.Offense.Description)[levels(crisea$Summarized.Offense.Description)==\"ANIMAL COMPLAINT\"] <- \"OTHER OFFENSES\"\n",
    "levels(crisea$Summarized.Offense.Description)[levels(crisea$Summarized.Offense.Description)==\"BIAS INCIDENT\"] <- \"OTHER OFFENSES\"\n",
    "levels(crisea$Summarized.Offense.Description)[levels(crisea$Summarized.Offense.Description)==\"CAR PROWL\"] <- \"OTHER OFFENSES\"\n",
    "levels(crisea$Summarized.Offense.Description)[levels(crisea$Summarized.Offense.Description)==\"DISPUTE\"] <- \"OTHER OFFENSES\"\n",
    "levels(crisea$Summarized.Offense.Description)[levels(crisea$Summarized.Offense.Description)==\"DISTURBANCE\"] <- \"OTHER OFFENSES\"\n",
    "levels(crisea$Summarized.Offense.Description)[levels(crisea$Summarized.Offense.Description)==\"FALSE REPORT\"] <- \"OTHER OFFENSES\"\n",
    "levels(crisea$Summarized.Offense.Description)[levels(crisea$Summarized.Offense.Description)==\"FIREWORK\"] <- \"OTHER OFFENSES\"\n",
    "levels(crisea$Summarized.Offense.Description)[levels(crisea$Summarized.Offense.Description)==\"[INC - CASE DC USE ONLY]\"] <- \"OTHER OFFENSES\"\n",
    "levels(crisea$Summarized.Offense.Description)[levels(crisea$Summarized.Offense.Description)==\"ILLEGAL DUMPING\"] <- \"OTHER OFFENSES\"\n",
    "levels(crisea$Summarized.Offense.Description)[levels(crisea$Summarized.Offense.Description)==\"OBSTRUCT\"] <- \"OTHER OFFENSES\"\n",
    "levels(crisea$Summarized.Offense.Description)[levels(crisea$Summarized.Offense.Description)==\"OTHER PROPERTY\"] <- \"OTHER OFFENSES\"\n",
    "levels(crisea$Summarized.Offense.Description)[levels(crisea$Summarized.Offense.Description)==\"VIOLATION OF COURT ORDER\"] <- \"OTHER OFFENSES\"\n",
    "\n",
    "\n",
    "levels(crisea$Summarized.Offense.Description)[levels(crisea$Summarized.Offense.Description)==\"PORNOGRAPHY\"] <- \"PORNOGRAPHY/OBSCENE MAT\"\n",
    "\n",
    "levels(crisea$Summarized.Offense.Description)[levels(crisea$Summarized.Offense.Description)==\"ELUDING\"] <- \"RUNAWAY\"\n",
    "levels(crisea$Summarized.Offense.Description)[levels(crisea$Summarized.Offense.Description)==\"ESCAPE\"] <- \"RUNAWAY\"\n",
    "\n",
    "levels(crisea$Summarized.Offense.Description)[levels(crisea$Summarized.Offense.Description)==\"PROPERTY DAMAGE\"] <- \"VANDALISM\"\n",
    "\n",
    "levels(crisea$Summarized.Offense.Description)[levels(crisea$Summarized.Offense.Description)==\"BIKE THEFT\"] <- \"VEHICLE THEFT\"\n",
    "\n",
    "levels(crisea$Summarized.Offense.Description)[levels(crisea$Summarized.Offense.Description)==\"WARRANT ARREST\"] <- \"WARRANTS\"\n",
    "\n",
    "levels(crisea$Summarized.Offense.Description)[levels(crisea$Summarized.Offense.Description)==\"WEAPON\"] <- \"WEAPON LAWS\"\n",
    "\n",
    "levels(crisea$Summarized.Offense.Description)[levels(crisea$Summarized.Offense.Description)==\"RECKLESS BURNING\"] <- \"ARSON\"\n",
    "\n",
    "levels(crisan$Category)[levels(crisan$Category)==\"BRIBERY\"] <- \"EMBEZZLEMENT\"\n",
    "levels(crisan$Category)[levels(crisan$Category)==\"EXTORTION\"] <- \"EMBEZZLEMENT\"\n",
    "levels(crisan$Category)[levels(crisan$Category)==\"DRUNKENNESS\"] <- \"DISORDERLY CONDUCT\"\n",
    "levels(crisan$Category)[levels(crisan$Category)==\"FAMILY OFFENSES\"] <- \"DISORDERLY CONDUCT\"\n",
    "levels(crisan$Category)[levels(crisan$Category)==\"SUSPICIOUS OCC\"] <- \"DISORDERLY CONDUCT\"\n",
    "levels(crisan$Category)[levels(crisan$Category)==\"KIDNAPPING\"] <- \"ASSAULT\"\n",
    "levels(crisan$Category)[levels(crisan$Category)==\"GAMBLING\"] <- \"SECONDARY CODES\"\n",
    "levels(crisan$Category)[levels(crisan$Category)==\"LOITERING\"] <- \"SECONDARY CODES\"\n",
    "levels(crisan$Category)[levels(crisan$Category)==\"MISSING PERSON\"] <- \"SECONDARY CODES\"\n",
    "levels(crisan$Category)[levels(crisan$Category)==\"SECONDARY CODES\"] <- \"OTHER OFFENSES\"\n",
    "levels(crisan$Category)[levels(crisan$Category)==\"STOLEN PROPERTY\"] <- \"OTHER OFFENSES\"\n",
    "levels(crisan$Category)[levels(crisan$Category)==\"SUICIDE\"] <- \"OTHER OFFENSES\"\n",
    "levels(crisan$Category)[levels(crisan$Category)==\"TRESPASS\"] <- \"RUNAWAY\"\n",
    "\n",
    "#sort(levels(crisea$Summarized.Offense.Description)) == sort(levels(crisan$Category))\n"
   ]
  },
  {
   "cell_type": "markdown",
   "metadata": {},
   "source": [
    "##### Question n.1: How do incidents vary month to month in the Summer 2014 dataset?\n",
    "We have two dimension here, one for the Month and one for the total incidents per Month, both mapped to space using the alignment of Y-axis in different position of space with the \"Alignment\" method on X-Axis."
   ]
  },
  {
   "cell_type": "code",
   "execution_count": 102,
   "metadata": {
    "collapsed": false
   },
   "outputs": [],
   "source": [
    "# Normalizing months and number ov events\n",
    "crisea$monthLabel <- months(as.Date(crisea$Date,'%m/%d/%Y'))\n",
    "crisan$monthLabel <- months(as.Date(crisan$Date,'%m/%d/%Y'))\n",
    "# count the timestamps per month for each year\n",
    "library(plyr)\n",
    "seaNEvents= count(crisea, vars = c(\"monthLabel\"))\n",
    "sanNEvents= count(crisan, vars = c(\"monthLabel\"))\n"
   ]
  },
  {
   "cell_type": "code",
   "execution_count": 103,
   "metadata": {
    "collapsed": false
   },
   "outputs": [],
   "source": [
    "#Multiple plot function\n",
    "\n",
    "#ggplot objects can be passed in ..., or to plotlist (as a list of ggplot objects)\n",
    "#- cols:   Number of columns in layout\n",
    "#- layout: A matrix specifying the layout. If present, 'cols' is ignored.\n",
    "\n",
    "#If the layout is something like matrix(c(1,2,3,3), nrow=2, byrow=TRUE),\n",
    "#then plot 1 will go in the upper left, 2 will go in the upper right, and\n",
    "#3 will go all the way across the bottom.\n",
    "\n",
    "multiplot <- function(..., plotlist=NULL, file, cols=1, rows=2, layout=NULL) {\n",
    "  require(grid)\n",
    "  \n",
    "  # Make a list from the ... arguments and plotlist\n",
    "  plots <- c(list(...), plotlist)\n",
    "  \n",
    "  numPlots = length(plots)\n",
    "  \n",
    "  # If layout is NULL, then use 'cols' to determine layout\n",
    "  if (is.null(layout)) {\n",
    "    # Make the panel\n",
    "    # ncol: Number of columns of plots\n",
    "    # nrow: Number of rows needed, calculated from # of cols\n",
    "    layout <- matrix(seq(1, cols * ceiling(numPlots/cols)),\n",
    "                     ncol = cols, nrow = ceiling(numPlots/cols))\n",
    "  }\n",
    "  \n",
    "  if (numPlots==1) {\n",
    "    print(plots[[1]])\n",
    "    \n",
    "  } else {\n",
    "    # Set up the page\n",
    "    grid.newpage()\n",
    "    pushViewport(viewport(layout = grid.layout(nrow(layout), ncol(layout))))\n",
    "    \n",
    "    # Make each plot, in the correct location\n",
    "    for (i in 1:numPlots) {\n",
    "      # Get the i,j matrix positions of the regions that contain this subplot\n",
    "      matchidx <- as.data.frame(which(layout == i, arr.ind = TRUE))\n",
    "      \n",
    "      print(plots[[i]], vp = viewport(layout.pos.row = matchidx$row,\n",
    "                                      layout.pos.col = matchidx$col))\n",
    "    }\n",
    "  }\n",
    "}\n"
   ]
  },
  {
   "cell_type": "code",
   "execution_count": 104,
   "metadata": {
    "collapsed": false
   },
   "outputs": [
    {
     "data": {
      "image/png": "[encoded data removed]"
     },
     "metadata": {},
     "output_type": "display_data"
    }
   ],
   "source": [
    "library(ggplot2)\n",
    "p1 <- ggplot(seaNEvents, aes(x = factor(monthLabel, levels=c(\"June\",\"July\",\"August\")), \n",
    "                       y = freq, \n",
    "                       fill = monthLabel, \n",
    "                       size = freq,  \n",
    "                       ymin = 9000, \n",
    "                       ymax = 12000, \n",
    "                       colour = monthLabel )) +\n",
    "  geom_point(stat=\"identity\") +\n",
    "  geom_line(aes(y= freq, colour = monthLabel, size = 1, group = 1)) + \n",
    "  labs(title = \"Seattle\") +\n",
    "  labs(y = \"number of events\") +\n",
    "  labs(x = \"month\") +\n",
    "  theme_bw() +\n",
    "  theme(legend.key = element_rect(colour = \"black\"))\n",
    "\n",
    "p2 <- ggplot(sanNEvents, aes(x = factor(monthLabel, levels=c(\"June\",\"July\",\"August\")), \n",
    "                       y = freq, \n",
    "                       fill = monthLabel, \n",
    "                       size = freq,  \n",
    "                       ymin = 9000, \n",
    "                       ymax = 12000, \n",
    "                       colour = monthLabel )) +\n",
    "  geom_point(stat=\"identity\") +\n",
    "  geom_line(aes(y= freq, colour = monthLabel, size = 1, group = 1)) + \n",
    "  labs(title = \"San Francisco\") +\n",
    "  labs(y = \"number of events\") +\n",
    "  labs(x = \"month\") +\n",
    "  theme_bw() +\n",
    "  theme(legend.key = element_rect(colour = \"black\"))\n",
    "multiplot(p1,p2, cols=2)\n",
    "\n"
   ]
  },
  {
   "cell_type": "markdown",
   "metadata": {},
   "source": [
    "From this first plot is evident a differenece in pattern for the two cities: while in Seattle the events are constant in June/July and decreases in August, in San Francisco they keep to increase. Also to be noted that anyway, the absolute number of incidents is always higher in Seattle.\n",
    "\n",
    "##### How do incidents vary by time of day? \n",
    "\n",
    "##### During what periods of the day are robberies most common?\n",
    "Again time is mapped in space on to X-axis, and the number of incidents on Y-axis. \n",
    "In addition to mapping in Space, the count of events is mapped in area, having bogger dots for more frequent hours with the \"Alignment\" method on X-axis."
   ]
  },
  {
   "cell_type": "code",
   "execution_count": 105,
   "metadata": {
    "collapsed": false
   },
   "outputs": [],
   "source": [
    "crisea$Hour <- substr(crisea$Time,1,2)\n",
    "crisan$Hour <- substr(crisan$Time,1,2)\n",
    "library(plyr)\n",
    "# Transform 12 to 24 hour in Seattle dataset\n",
    "crisea$PM <- 0\n",
    "crisea[substr(crisea$Occurred.Date.or.Date.Range.Start,21,22)==\"PM\",]$PM <- 12\n",
    "crisea$Hour <- as.numeric(crisea$Hour)+crisea$PM\n",
    "crisea$Hour <- as.character(crisea$Hour)\n",
    "# Normalizing Hours from 01-24 to 00-23\n",
    "crisea$Hour <- as.numeric(crisea$Hour)-1\n",
    "crisea[nchar(crisea$Hour)==1,]$Hour <- paste0(\"0\",crisea[nchar(crisea$Hour)==1,]$Hour)\n"
   ]
  },
  {
   "cell_type": "code",
   "execution_count": 106,
   "metadata": {
    "collapsed": false
   },
   "outputs": [
    {
     "data": {
      "image/png": "[encoded data removed]"
     },
     "metadata": {},
     "output_type": "display_data"
    }
   ],
   "source": [
    "\n",
    "seaTimeCount= count(crisea, vars = c(\"Hour\"))\n",
    "sanTimeCount= count(crisan, vars = c(\"Hour\"))\n",
    "library(ggplot2)\n",
    "p1 <- ggplot(seaTimeCount, aes(x = factor(Hour), \n",
    "                       y = freq, \n",
    "                       fill = Hour, \n",
    "                       size = freq,  \n",
    "                       ymin = 1000, \n",
    "                       ymax = 5000)) +\n",
    "  geom_point(stat=\"identity\" ) +\n",
    "  geom_line(aes(y= freq, colour = Hour, size = 1, group = 1)) + \n",
    "  labs(title = \"Seattle\") +\n",
    "  labs(y = \"number of events\") +\n",
    "  labs(x = \"hour\") +\n",
    "  theme_bw() +\n",
    "  theme(legend.position = \"none\")  \n",
    "\n",
    "\n",
    "p2 <- ggplot(sanTimeCount, aes(x = factor(Hour), \n",
    "                       y = freq, \n",
    "                       fill = Hour, \n",
    "                       size = freq,  \n",
    "                       ymin = 1000, \n",
    "                       ymax = 5000)) +\n",
    "  geom_point(stat=\"identity\") +\n",
    "  geom_line(aes(y= freq, colour = Hour, size = 1, group = 1)) + \n",
    "  labs(title = \"San Francisco\") +\n",
    "  labs(y = \"number of events\") +\n",
    "  labs(x = \"hour\") +\n",
    "  theme_bw() +\n",
    "  theme(legend.position = \"none\")  \n",
    "  multiplot(p1,p2, cols=1)"
   ]
  },
  {
   "cell_type": "markdown",
   "metadata": {
    "collapsed": false
   },
   "source": [
    "It is immediately evident that for both cities, there is a pick of incidents around the 12:00. The trend is not very different for Seattle and San Francisco, having both a sligtly increment in the evening, and a significant decrement in the middle of night from 01:00 to 07:00.\n",
    "\n",
    "In addition we easily can observe a difference from 22:00 to 23:00 where Seattle have an increase of incidents, while San Francisco a descrease.\n",
    "\n",
    "\n"
   ]
  },
  {
   "cell_type": "markdown",
   "metadata": {},
   "source": [
    "#### Which incidents are most common in the evening ?"
   ]
  },
  {
   "cell_type": "markdown",
   "metadata": {},
   "source": [
    "Only hours from 16:00 to 20:00 are considered: to keep the two datasets comparable, it seems reasonable to exclude the Category \"Other Offenses\" from the following plot. In fact, we have no guarranty that the categories converged in this category is in the same number and proportion for for the two datasets, and keeping that inside the analysis would lead to incorrect conclusion."
   ]
  },
  {
   "cell_type": "code",
   "execution_count": 182,
   "metadata": {
    "collapsed": false
   },
   "outputs": [],
   "source": [
    "evensea <- crisea[which(crisea$Hour %in% c(\"16\",\"17\", \"18\", \"19\", \"20\") & crisea$Summarized.Offense.Description != c(\"OTHER OFFENSES\")),]\n",
    "evensan <- crisan[which(crisan$Hour %in% c(\"16\",\"17\", \"18\", \"19\", \"20\") & crisan$Category != \"OTHER OFFENSES\"),]\n",
    "#evensea <- crisea[crisea$Hour %in% c(\"16\",\"17\", \"18\", \"19\", \"20\"),]\n",
    "#evensan <- crisan[crisan$Hour %in% c(\"16\",\"17\", \"18\", \"19\", \"20\"),]\n",
    "\n",
    "\n",
    "evenseaCount= count(evensea, vars = c(\"Summarized.Offense.Description\"))\n",
    "evensanCount= count(evensan, vars = c(\"Category\"))\n",
    "\n",
    "#evenseaCount$freq <- factor(evenseaCount$freq)\n",
    "#evensanCount$freq <- factor(evensanCount$freq)\n",
    "evenseaCount$Summarized.Offense.Description <- reorder(evenseaCount$Summarized.Offense.Description, evenseaCount$freq)\n",
    "evensanCount$Category <- reorder(evensanCount$Category, evensanCount$freq)\n"
   ]
  },
  {
   "cell_type": "code",
   "execution_count": 194,
   "metadata": {
    "collapsed": false
   },
   "outputs": [
    {
     "data": {
      "image/png": "[encoded data removed]"
     },
     "metadata": {},
     "output_type": "display_data"
    }
   ],
   "source": [
    "##### Which incidents are most common in the evening? \n",
    "\n",
    "# Reorder levels of factor to get a oreder barplot:\n",
    "\n",
    "library(ggplot2)\n",
    "evenseaCount$freq <- as.numeric(evenseaCount$freq)\n",
    "p1 <- ggplot(evenseaCount, aes(x = Summarized.Offense.Description, \n",
    "                       y    = freq, \n",
    "                       fill = Summarized.Offense.Description, \n",
    "                       size = 5,  \n",
    "                       ymin = 1000, \n",
    "                       ymax = 5000)) +\n",
    "  geom_bar(stat=\"identity\" ) +\n",
    "  labs(title = \"Seattle\") +\n",
    "  labs(y = \"num. of events\") +\n",
    "  labs(x = \"Summarized.Offense.Description\") +\n",
    "  theme_bw() +\n",
    "  theme(legend.position = \"none\",\n",
    "       text = element_text(size=10),\n",
    "        axis.text.x = element_text(angle=90, vjust=1))  +\n",
    "  coord_flip() +\n",
    "  scale_y_continuous(limits=c(0, 3500), breaks=c(0,500,1000,1500,2000,2500,3000,3500)) \n",
    "\n",
    "\n",
    "# Reorder levels of factor to get a oreder barplot:\n",
    "p2 <- ggplot(evensanCount, aes(x = Category, \n",
    "                       y    = freq, \n",
    "                       fill = Category, \n",
    "                       size = 5,  \n",
    "                       ymin = 1000, \n",
    "                       ymax = 5000)) +\n",
    "  geom_bar(stat=\"identity\" ) +\n",
    "  labs(title = \"S.Francisco\") +\n",
    "  labs(y = \"num. of events\") +\n",
    "  labs(x = \"Category\") +\n",
    "  theme_bw() +\n",
    "  theme(legend.position = \"none\",\n",
    "       text = element_text(size=10),\n",
    "        axis.text.x = element_text(angle=90, vjust=1))  +\n",
    "  coord_flip() +\n",
    "  scale_y_continuous(limits=c(0, 3500), breaks=c(0,500,1000,1500,2000,2500,3000,3500)) \n",
    "\n",
    "  multiplot(p1,p2, cols=2)\n"
   ]
  },
  {
   "cell_type": "markdown",
   "metadata": {},
   "source": [
    "The dimensions are mapped to space and area, using the Alignment tecnique. It is evident that for Seattle the mosto common incident in the evening is \"VEHICOLE THEFT\", while for San Francisco is \"LARCENY/THEFT\" and \"VEHICOLE THEFT\" is less common. Among all the type of theft, in Seattle the viecle theft are by far the most common. In addition, while in Seattle there is a distribution more constant among the incidents type, in San Francisco overall the most frequent is by far \"LARCENY/THEFT\"."
   ]
  },
  {
   "cell_type": "markdown",
   "metadata": {},
   "source": [
    "##### Does one city tend to have more crime than the other, per capita?\n",
    "We know the total number of incidents during summer 2014 for both cities, twe number of days, and also from Google data (2013 year) :\n",
    "##### [Seattle Population](https://www.google.it/webhp?sourceid=chrome-instant&ion=1&espv=2&ie=UTF-8#q=seattle%20population) : 652.405\n",
    "##### [San Francisco Population:](https://www.google.it/webhp?sourceid=chrome-instant&ion=1&espv=2&ie=UTF-8#q=san%20francisco%20population)  : 837.442"
   ]
  },
  {
   "cell_type": "code",
   "execution_count": 205,
   "metadata": {
    "collapsed": false
   },
   "outputs": [
    {
     "name": "stdout",
     "output_type": "stream",
     "text": [
      "'data.frame':\t2 obs. of  2 variables:\n",
      " $ city     : Factor w/ 2 levels \"San Francisco\",..: 2 1\n",
      " $ numincday: num  0.000546 0.000376\n"
     ]
    },
    {
     "data": {
      "text/html": [
       "<table>\n",
       "<thead><tr><th></th><th scope=col>city</th><th scope=col>numincday</th></tr></thead>\n",
       "<tbody>\n",
       "\t<tr><th scope=row>1</th><td>Seattle</td><td>0.0005461232</td></tr>\n",
       "\t<tr><th scope=row>2</th><td>San Francisco</td><td>0.0003763142</td></tr>\n",
       "</tbody>\n",
       "</table>\n"
      ],
      "text/latex": [
       "\\begin{tabular}{r|ll}\n",
       "  & city & numincday\\\\\n",
       "\\hline\n",
       "\t1 & Seattle & 0.0005461232\\\\\n",
       "\t2 & San Francisco & 0.0003763142\\\\\n",
       "\\end{tabular}\n"
      ],
      "text/plain": [
       "           city    numincday\n",
       "1       Seattle 0.0005461232\n",
       "2 San Francisco 0.0003763142"
      ]
     },
     "execution_count": 205,
     "metadata": {},
     "output_type": "execute_result"
    },
    {
     "data": {
      "text/html": [
       "<table>\n",
       "<thead><tr><th></th><th scope=col>Category</th><th scope=col>freq</th></tr></thead>\n",
       "<tbody>\n",
       "\t<tr><th scope=row>1</th><td>ARSON</td><td>12</td></tr>\n",
       "\t<tr><th scope=row>2</th><td>ASSAULT</td><td>791</td></tr>\n",
       "\t<tr><th scope=row>3</th><td>EMBEZZLEMENT</td><td>3</td></tr>\n",
       "\t<tr><th scope=row>4</th><td>DISORDERLY CONDUCT</td><td>431</td></tr>\n",
       "\t<tr><th scope=row>5</th><td>DRIVING UNDER THE INFLUENCE</td><td>23</td></tr>\n",
       "\t<tr><th scope=row>6</th><td>DRUG/NARCOTIC</td><td>466</td></tr>\n",
       "\t<tr><th scope=row>7</th><td>FORGERY/COUNTERFEITING</td><td>6</td></tr>\n",
       "\t<tr><th scope=row>8</th><td>FRAUD</td><td>55</td></tr>\n",
       "\t<tr><th scope=row>9</th><td>LARCENY/THEFT</td><td>3416</td></tr>\n",
       "\t<tr><th scope=row>10</th><td>LIQUOR LAWS</td><td>10</td></tr>\n",
       "\t<tr><th scope=row>11</th><td>NON-CRIMINAL</td><td>831</td></tr>\n",
       "\t<tr><th scope=row>12</th><td>PROSTITUTION</td><td>33</td></tr>\n",
       "\t<tr><th scope=row>13</th><td>ROBBERY</td><td>72</td></tr>\n",
       "\t<tr><th scope=row>14</th><td>RUNAWAY</td><td>78</td></tr>\n",
       "\t<tr><th scope=row>15</th><td>VANDALISM</td><td>3</td></tr>\n",
       "\t<tr><th scope=row>16</th><td>VEHICLE THEFT</td><td>729</td></tr>\n",
       "\t<tr><th scope=row>17</th><td>WARRANTS</td><td>578</td></tr>\n",
       "\t<tr><th scope=row>18</th><td>WEAPON LAWS</td><td>113</td></tr>\n",
       "</tbody>\n",
       "</table>\n"
      ],
      "text/latex": [
       "\\begin{tabular}{r|ll}\n",
       "  & Category & freq\\\\\n",
       "\\hline\n",
       "\t1 & ARSON & 12\\\\\n",
       "\t2 & ASSAULT & 791\\\\\n",
       "\t3 & EMBEZZLEMENT & 3\\\\\n",
       "\t4 & DISORDERLY CONDUCT & 431\\\\\n",
       "\t5 & DRIVING UNDER THE INFLUENCE & 23\\\\\n",
       "\t6 & DRUG/NARCOTIC & 466\\\\\n",
       "\t7 & FORGERY/COUNTERFEITING & 6\\\\\n",
       "\t8 & FRAUD & 55\\\\\n",
       "\t9 & LARCENY/THEFT & 3416\\\\\n",
       "\t10 & LIQUOR LAWS & 10\\\\\n",
       "\t11 & NON-CRIMINAL & 831\\\\\n",
       "\t12 & PROSTITUTION & 33\\\\\n",
       "\t13 & ROBBERY & 72\\\\\n",
       "\t14 & RUNAWAY & 78\\\\\n",
       "\t15 & VANDALISM & 3\\\\\n",
       "\t16 & VEHICLE THEFT & 729\\\\\n",
       "\t17 & WARRANTS & 578\\\\\n",
       "\t18 & WEAPON LAWS & 113\\\\\n",
       "\\end{tabular}\n"
      ],
      "text/plain": [
       "                      Category freq\n",
       "1                        ARSON   12\n",
       "2                      ASSAULT  791\n",
       "3                 EMBEZZLEMENT    3\n",
       "4           DISORDERLY CONDUCT  431\n",
       "5  DRIVING UNDER THE INFLUENCE   23\n",
       "6                DRUG/NARCOTIC  466\n",
       "7       FORGERY/COUNTERFEITING    6\n",
       "8                        FRAUD   55\n",
       "9                LARCENY/THEFT 3416\n",
       "10                 LIQUOR LAWS   10\n",
       "11                NON-CRIMINAL  831\n",
       "12                PROSTITUTION   33\n",
       "13                     ROBBERY   72\n",
       "14                     RUNAWAY   78\n",
       "15                   VANDALISM    3\n",
       "16               VEHICLE THEFT  729\n",
       "17                    WARRANTS  578\n",
       "18                 WEAPON LAWS  113"
      ]
     },
     "execution_count": 205,
     "metadata": {},
     "output_type": "execute_result"
    }
   ],
   "source": [
    "nincsea <- nrow(crisea)\n",
    "nincsan <- nrow(crisan)\n",
    "nincseaCap <-nincsea/92/652405\n",
    "nincsanCap <-nincsan/92/837442\n",
    "dfnincday <- data.frame(city=c(\"Seattle\",\"San Francisco\"), numincday=c(nincseaCap,nincsanCap))\n",
    "str(dfnincday)\n",
    "dfnincday\n",
    "evensanCount"
   ]
  },
  {
   "cell_type": "markdown",
   "metadata": {},
   "source": [
    "Therefore the crime per day per capita for both cities, mapped to area, and with unit of measure /1000 for better interpretability is:"
   ]
  },
  {
   "cell_type": "code",
   "execution_count": 226,
   "metadata": {
    "collapsed": false
   },
   "outputs": [
    {
     "data": {
      "image/png": "[encoded data removed]"
     },
     "metadata": {},
     "output_type": "display_data"
    }
   ],
   "source": [
    "p1 <- ggplot(dfnincday, aes(x = city, \n",
    "                       y    = numincday*10000, \n",
    "                       fill = city, \n",
    "                       size = 5)) +\n",
    "  geom_bar(stat=\"identity\" ) +\n",
    "  labs(title = \"Crime per day per capita summer 2014\\nSeattle / San Francisco \") +\n",
    "  labs(y = \"Number of incidents\") +\n",
    "  labs(x = \"City\") +\n",
    "  theme_bw() +\n",
    "  theme(legend.position = \"none\",\n",
    "       text = element_text(size=10))+\n",
    "  scale_y_continuous(limits=c(0, 6), breaks=seq(0,6, by=0.5)) \n",
    "\n",
    "p1"
   ]
  },
  {
   "cell_type": "markdown",
   "metadata": {},
   "source": [
    "Where is evident a lower frequence for San Francisco "
   ]
  }
 ],
 "metadata": {
  "kernelspec": {
   "display_name": "R",
   "language": "R",
   "name": "ir"
  },
  "language_info": {
   "codemirror_mode": "r",
   "file_extension": ".r",
   "mimetype": "text/x-r-source",
   "name": "R",
   "pygments_lexer": "r",
   "version": "3.1.1"
  }
 },
 "nbformat": 4,
 "nbformat_minor": 0
}
